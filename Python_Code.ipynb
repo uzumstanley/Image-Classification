{
  "nbformat": 4,
  "nbformat_minor": 0,
  "metadata": {
    "colab": {
      "provenance": []
    },
    "kernelspec": {
      "name": "python3",
      "display_name": "Python 3"
    },
    "language_info": {
      "name": "python"
    }
  },
  "cells": [
    {
      "cell_type": "code",
      "execution_count": null,
      "metadata": {
        "id": "RkMyn5lFAcw6"
      },
      "outputs": [],
      "source": [
        "import tensorflow as tf\n",
        "from tensorflow.keras import datasets, layers, models\n",
        "import matplotlib.pyplot as plt\n",
        "import numpy as np"
      ]
    },
    {
      "cell_type": "code",
      "source": [
        "#Loading the dataset"
      ],
      "metadata": {
        "id": "T4UYUf4TAp3m"
      },
      "execution_count": null,
      "outputs": []
    },
    {
      "cell_type": "code",
      "source": [
        "(X_train, y_train), (X_test,y_test) = datasets.cifar10.load_data()\n",
        "X_train.shape"
      ],
      "metadata": {
        "colab": {
          "base_uri": "https://localhost:8080/"
        },
        "id": "IQf7ZKnIAu9r",
        "outputId": "6dbc40f0-776d-4390-d50a-d8cf9c6db0f8"
      },
      "execution_count": null,
      "outputs": [
        {
          "output_type": "stream",
          "name": "stdout",
          "text": [
            "Downloading data from https://www.cs.toronto.edu/~kriz/cifar-10-python.tar.gz\n",
            "170498071/170498071 [==============================] - 4s 0us/step\n"
          ]
        },
        {
          "output_type": "execute_result",
          "data": {
            "text/plain": [
              "(50000, 32, 32, 3)"
            ]
          },
          "metadata": {},
          "execution_count": 2
        }
      ]
    },
    {
      "cell_type": "code",
      "source": [
        "# The train sample is 50000, image is 32 by 32 , 3 is RGB"
      ],
      "metadata": {
        "id": "SZ_ZLr7hbqs7"
      },
      "execution_count": null,
      "outputs": []
    },
    {
      "cell_type": "code",
      "source": [
        "X_test.shape"
      ],
      "metadata": {
        "colab": {
          "base_uri": "https://localhost:8080/"
        },
        "id": "xpsU735vA261",
        "outputId": "47c43cff-cf3c-4dfd-f34a-b9862b45b16b"
      },
      "execution_count": null,
      "outputs": [
        {
          "output_type": "execute_result",
          "data": {
            "text/plain": [
              "(10000, 32, 32, 3)"
            ]
          },
          "metadata": {},
          "execution_count": 3
        }
      ]
    },
    {
      "cell_type": "code",
      "source": [
        "#The test sample is 10000, image is 32 by 32 , 3 is RGB"
      ],
      "metadata": {
        "id": "q9IaiexccfLd"
      },
      "execution_count": null,
      "outputs": []
    },
    {
      "cell_type": "code",
      "source": [
        "#Here we see there are 50000 training images and 1000 test images"
      ],
      "metadata": {
        "id": "ljnoeCuEBIuq"
      },
      "execution_count": null,
      "outputs": []
    },
    {
      "cell_type": "code",
      "source": [
        "y_train.shape"
      ],
      "metadata": {
        "colab": {
          "base_uri": "https://localhost:8080/"
        },
        "id": "bdv9NnYpByu7",
        "outputId": "4ba0256a-e13b-4a1f-a615-2316b28da8f9"
      },
      "execution_count": null,
      "outputs": [
        {
          "output_type": "execute_result",
          "data": {
            "text/plain": [
              "(50000, 1)"
            ]
          },
          "metadata": {},
          "execution_count": 4
        }
      ]
    },
    {
      "cell_type": "code",
      "source": [
        "y_train[:5]"
      ],
      "metadata": {
        "colab": {
          "base_uri": "https://localhost:8080/"
        },
        "id": "XtPPYM-GCGGX",
        "outputId": "524fdef9-d621-4123-a524-9e1e19ec90a8"
      },
      "execution_count": null,
      "outputs": [
        {
          "output_type": "execute_result",
          "data": {
            "text/plain": [
              "array([[6],\n",
              "       [9],\n",
              "       [9],\n",
              "       [4],\n",
              "       [1]], dtype=uint8)"
            ]
          },
          "metadata": {},
          "execution_count": 5
        }
      ]
    },
    {
      "cell_type": "code",
      "source": [
        "#y_train is a 2D array, for our classification having 1D array is good enough. so we will convert this to now 1D array"
      ],
      "metadata": {
        "id": "ZAaUB-keCMd8"
      },
      "execution_count": null,
      "outputs": []
    },
    {
      "cell_type": "code",
      "source": [
        "y_train = y_train.reshape(-1,)\n",
        "y_train[:3]"
      ],
      "metadata": {
        "colab": {
          "base_uri": "https://localhost:8080/"
        },
        "id": "qb_Cr6zqCPXX",
        "outputId": "e13b6bab-f0e5-4ee0-8508-48a0ba2710ce"
      },
      "execution_count": null,
      "outputs": [
        {
          "output_type": "execute_result",
          "data": {
            "text/plain": [
              "array([6, 9, 9], dtype=uint8)"
            ]
          },
          "metadata": {},
          "execution_count": 21
        }
      ]
    },
    {
      "cell_type": "code",
      "source": [
        "y_test = y_test.reshape(-1,)"
      ],
      "metadata": {
        "id": "-V15E5SOCsDl"
      },
      "execution_count": null,
      "outputs": []
    },
    {
      "cell_type": "code",
      "source": [
        "classes = [\"airplane\",\"automobile\",\"bird\",\"cat\",\"deer\",\"dog\",\"frog\",\"horse\",\"ship\",\"truck\"]"
      ],
      "metadata": {
        "id": "nftUWzFpDkPf"
      },
      "execution_count": null,
      "outputs": []
    },
    {
      "cell_type": "code",
      "source": [
        "#Plotting some images to see what they are"
      ],
      "metadata": {
        "id": "qAb-TJR7D-Q5"
      },
      "execution_count": null,
      "outputs": []
    },
    {
      "cell_type": "code",
      "source": [
        "def plot_sample(X, y, index):\n",
        "    plt.figure(figsize = (12,1))\n",
        "    plt.imshow(X[index])\n",
        "    plt.xlabel(classes[y[index]])"
      ],
      "metadata": {
        "id": "RfQ6VbrrEXzg"
      },
      "execution_count": null,
      "outputs": []
    },
    {
      "cell_type": "code",
      "source": [
        "plot_sample(X_train, y_train, 1)"
      ],
      "metadata": {
        "colab": {
          "base_uri": "https://localhost:8080/",
          "height": 161
        },
        "id": "E0juKhz5Ejzr",
        "outputId": "c9b7f7f5-26e7-452d-d15a-2a43f6eb557f"
      },
      "execution_count": null,
      "outputs": [
        {
          "output_type": "display_data",
          "data": {
            "text/plain": [
              "<Figure size 1200x100 with 1 Axes>"
            ],
            "image/png": "[encoded data removed]"
          },
          "metadata": {}
        }
      ]
    },
    {
      "cell_type": "code",
      "source": [
        "plot_sample(X_train, y_train, 3)"
      ],
      "metadata": {
        "colab": {
          "base_uri": "https://localhost:8080/",
          "height": 161
        },
        "id": "0uDa985zGLwl",
        "outputId": "1577c51d-1fe5-448f-8a5a-ec48b1156bb5"
      },
      "execution_count": null,
      "outputs": [
        {
          "output_type": "display_data",
          "data": {
            "text/plain": [
              "<Figure size 1200x100 with 1 Axes>"
            ],
            "image/png": "[encoded data removed]"
          },
          "metadata": {}
        }
      ]
    },
    {
      "cell_type": "code",
      "source": [
        "#Normalizing the training data"
      ],
      "metadata": {
        "id": "oWCiqSmtGYF6"
      },
      "execution_count": null,
      "outputs": []
    },
    {
      "cell_type": "code",
      "source": [
        "X_train = X_train / 255.0\n",
        "X_test = X_test / 255.0"
      ],
      "metadata": {
        "id": "nJN9hAMhGtPk"
      },
      "execution_count": null,
      "outputs": []
    },
    {
      "cell_type": "code",
      "source": [
        "#Building artificial neural network for image classification on the dataset"
      ],
      "metadata": {
        "id": "vWI9A7eEHBGZ"
      },
      "execution_count": null,
      "outputs": []
    },
    {
      "cell_type": "code",
      "source": [
        "ann = models.Sequential([\n",
        "        layers.Flatten(input_shape=(32,32,3)),\n",
        "        layers.Dense(3000, activation='relu'),\n",
        "        layers.Dense(1000, activation='relu'),\n",
        "        layers.Dense(10, activation='softmax')\n",
        "    ])\n",
        "\n",
        "ann.compile(optimizer='SGD',\n",
        "              loss='sparse_categorical_crossentropy',\n",
        "              metrics=['accuracy'])\n",
        "\n",
        "ann.fit(X_train, y_train, epochs=10)"
      ],
      "metadata": {
        "colab": {
          "base_uri": "https://localhost:8080/"
        },
        "id": "cnQhW1ZpHLgA",
        "outputId": "dc1de670-f3cf-4361-ab88-6604a895db2f"
      },
      "execution_count": null,
      "outputs": [
        {
          "output_type": "stream",
          "name": "stdout",
          "text": [
            "Epoch 1/10\n",
            "1563/1563 [==============================] - 84s 54ms/step - loss: 1.8180 - accuracy: 0.3520\n",
            "Epoch 2/10\n",
            "1563/1563 [==============================] - 78s 50ms/step - loss: 1.6259 - accuracy: 0.4250\n",
            "Epoch 3/10\n",
            "1563/1563 [==============================] - 77s 50ms/step - loss: 1.5453 - accuracy: 0.4529\n",
            "Epoch 4/10\n",
            "1563/1563 [==============================] - 77s 49ms/step - loss: 1.4858 - accuracy: 0.4758\n",
            "Epoch 5/10\n",
            "1563/1563 [==============================] - 77s 49ms/step - loss: 1.4335 - accuracy: 0.4951\n",
            "Epoch 6/10\n",
            "1563/1563 [==============================] - 77s 50ms/step - loss: 1.3908 - accuracy: 0.5118\n",
            "Epoch 7/10\n",
            "1563/1563 [==============================] - 78s 50ms/step - loss: 1.3541 - accuracy: 0.5253\n",
            "Epoch 8/10\n",
            "1563/1563 [==============================] - 79s 50ms/step - loss: 1.3197 - accuracy: 0.5376\n",
            "Epoch 9/10\n",
            "1563/1563 [==============================] - 81s 52ms/step - loss: 1.2851 - accuracy: 0.5514\n",
            "Epoch 10/10\n",
            "1563/1563 [==============================] - 78s 50ms/step - loss: 1.2539 - accuracy: 0.5625\n"
          ]
        },
        {
          "output_type": "execute_result",
          "data": {
            "text/plain": [
              "<keras.src.callbacks.History at 0x7d5d75f99a50>"
            ]
          },
          "metadata": {},
          "execution_count": 65
        }
      ]
    },
    {
      "cell_type": "code",
      "source": [
        "#we can see that at the end of 10 epochs, accuracy is at around 49% which is very weak by considering the level of the percentage value"
      ],
      "metadata": {
        "id": "95YEy6uaKwN5"
      },
      "execution_count": null,
      "outputs": []
    },
    {
      "cell_type": "code",
      "source": [
        "from sklearn.metrics import confusion_matrix , classification_report\n",
        "import numpy as np\n",
        "y_pred = ann.predict(X_test)\n",
        "y_pred_classes = [np.argmax(element) for element in y_pred]\n",
        "\n",
        "print(\"Classification Report: \\n\", classification_report(y_test, y_pred_classes))"
      ],
      "metadata": {
        "colab": {
          "base_uri": "https://localhost:8080/"
        },
        "id": "VOCzvbUeLAci",
        "outputId": "84adedd0-dd2f-411b-ac66-f9082b2e69aa"
      },
      "execution_count": null,
      "outputs": [
        {
          "output_type": "stream",
          "name": "stdout",
          "text": [
            "313/313 [==============================] - 5s 15ms/step\n",
            "Classification Report: \n",
            "               precision    recall  f1-score   support\n",
            "\n",
            "           0       0.73      0.35      0.48      1000\n",
            "           1       0.68      0.53      0.60      1000\n",
            "           2       0.32      0.56      0.41      1000\n",
            "           3       0.49      0.17      0.25      1000\n",
            "           4       0.65      0.12      0.20      1000\n",
            "           5       0.39      0.52      0.44      1000\n",
            "           6       0.58      0.57      0.58      1000\n",
            "           7       0.41      0.76      0.53      1000\n",
            "           8       0.73      0.48      0.58      1000\n",
            "           9       0.45      0.73      0.55      1000\n",
            "\n",
            "    accuracy                           0.48     10000\n",
            "   macro avg       0.54      0.48      0.46     10000\n",
            "weighted avg       0.54      0.48      0.46     10000\n",
            "\n"
          ]
        }
      ]
    },
    {
      "cell_type": "code",
      "source": [
        "#Building a convolutional neural network to train our images of the dataset"
      ],
      "metadata": {
        "id": "dTjt7MdULnWE"
      },
      "execution_count": null,
      "outputs": []
    },
    {
      "cell_type": "code",
      "source": [
        "cnn = models.Sequential([\n",
        "    layers.Conv2D(filters=32, kernel_size=(3, 3), activation='relu', input_shape=(32, 32, 3)),\n",
        "    layers.MaxPooling2D((2, 2)),\n",
        "\n",
        "    layers.Conv2D(filters=64, kernel_size=(3, 3), activation='relu'),\n",
        "    layers.MaxPooling2D((2, 2)),\n",
        "\n",
        "    layers.Flatten(),\n",
        "    layers.Dense(64, activation='relu'),\n",
        "    layers.Dense(10, activation='softmax')\n",
        "])"
      ],
      "metadata": {
        "id": "SKbOEzY1MS6N"
      },
      "execution_count": null,
      "outputs": []
    },
    {
      "cell_type": "code",
      "source": [
        "cnn.compile(optimizer='adam',\n",
        "              loss='sparse_categorical_crossentropy',\n",
        "              metrics=['accuracy'])"
      ],
      "metadata": {
        "id": "svPoJATyMgV3"
      },
      "execution_count": null,
      "outputs": []
    },
    {
      "cell_type": "code",
      "source": [
        "cnn.fit(X_train, y_train, epochs=10)"
      ],
      "metadata": {
        "colab": {
          "base_uri": "https://localhost:8080/"
        },
        "id": "_k4cBUPpMupl",
        "outputId": "f947d0dd-f84c-4903-851f-0467aa07516a"
      },
      "execution_count": null,
      "outputs": [
        {
          "output_type": "stream",
          "name": "stdout",
          "text": [
            "Epoch 1/10\n",
            "1563/1563 [==============================] - 38s 24ms/step - loss: 1.5180 - accuracy: 0.4489\n",
            "Epoch 2/10\n",
            "1563/1563 [==============================] - 37s 24ms/step - loss: 1.1602 - accuracy: 0.5903\n",
            "Epoch 3/10\n",
            "1563/1563 [==============================] - 37s 24ms/step - loss: 1.0227 - accuracy: 0.6448\n",
            "Epoch 4/10\n",
            "1563/1563 [==============================] - 36s 23ms/step - loss: 0.9450 - accuracy: 0.6702\n",
            "Epoch 5/10\n",
            "1563/1563 [==============================] - 37s 23ms/step - loss: 0.8857 - accuracy: 0.6927\n",
            "Epoch 6/10\n",
            "1563/1563 [==============================] - 37s 23ms/step - loss: 0.8360 - accuracy: 0.7087\n",
            "Epoch 7/10\n",
            "1563/1563 [==============================] - 37s 23ms/step - loss: 0.7956 - accuracy: 0.7233\n",
            "Epoch 8/10\n",
            "1563/1563 [==============================] - 37s 23ms/step - loss: 0.7569 - accuracy: 0.7369\n",
            "Epoch 9/10\n",
            "1563/1563 [==============================] - 37s 24ms/step - loss: 0.7216 - accuracy: 0.7502\n",
            "Epoch 10/10\n",
            "1563/1563 [==============================] - 37s 24ms/step - loss: 0.6913 - accuracy: 0.7594\n"
          ]
        },
        {
          "output_type": "execute_result",
          "data": {
            "text/plain": [
              "<keras.src.callbacks.History at 0x7d5d15bed720>"
            ]
          },
          "metadata": {},
          "execution_count": 69
        }
      ]
    },
    {
      "cell_type": "code",
      "source": [
        "#With CNN, at the end 5 epochs, accuracy score was around 70% which is a high level of improvement than ANN classification.\n",
        "#CNN's are best for image classification and gives superb accuracy.\n",
        "# Also computation is much less compared to simple ANN as maxpooling reduces the image dimensions while still preserving the features"
      ],
      "metadata": {
        "id": "hd52p2GJPiTO"
      },
      "execution_count": null,
      "outputs": []
    },
    {
      "cell_type": "code",
      "source": [
        "cnn.evaluate(X_test,y_test)"
      ],
      "metadata": {
        "colab": {
          "base_uri": "https://localhost:8080/"
        },
        "id": "LvTUB_XRRCDY",
        "outputId": "92a7cb90-5fd7-463b-fb1b-b7b49dd4d583"
      },
      "execution_count": null,
      "outputs": [
        {
          "output_type": "stream",
          "name": "stdout",
          "text": [
            "313/313 [==============================] - 3s 8ms/step - loss: 0.8831 - accuracy: 0.7039\n"
          ]
        },
        {
          "output_type": "execute_result",
          "data": {
            "text/plain": [
              "[0.8830621838569641, 0.7038999795913696]"
            ]
          },
          "metadata": {},
          "execution_count": 70
        }
      ]
    },
    {
      "cell_type": "code",
      "source": [
        "y_pred = cnn.predict(X_test)\n",
        "y_pred[:5]"
      ],
      "metadata": {
        "colab": {
          "base_uri": "https://localhost:8080/"
        },
        "id": "v5-cgzfYRiVX",
        "outputId": "75f54a48-5109-4dec-aaba-204a367f1ddc"
      },
      "execution_count": null,
      "outputs": [
        {
          "output_type": "stream",
          "name": "stdout",
          "text": [
            "313/313 [==============================] - 3s 10ms/step\n"
          ]
        },
        {
          "output_type": "execute_result",
          "data": {
            "text/plain": [
              "array([[1.0511397e-03, 6.0500415e-06, 9.5743919e-03, 8.8466275e-01,\n",
              "        9.1312052e-04, 9.9153191e-02, 3.2887941e-03, 6.4418814e-06,\n",
              "        1.2927020e-03, 5.1434967e-05],\n",
              "       [9.0635137e-04, 2.6673097e-02, 6.5655058e-07, 5.9520065e-08,\n",
              "        1.7424977e-08, 1.7664103e-08, 5.8290484e-09, 1.3123417e-08,\n",
              "        9.7230220e-01, 1.1765069e-04],\n",
              "       [7.1018398e-02, 9.5889084e-02, 4.3646255e-04, 7.7162539e-03,\n",
              "        2.0474505e-03, 7.2080398e-04, 1.2270594e-04, 1.1611701e-03,\n",
              "        7.9145473e-01, 2.9432943e-02],\n",
              "       [9.1180938e-01, 4.7214560e-02, 4.6917396e-03, 7.0686918e-05,\n",
              "        2.8510799e-04, 1.3215623e-05, 1.8588548e-04, 1.1804455e-05,\n",
              "        3.5341330e-02, 3.7632248e-04],\n",
              "       [8.9702957e-07, 8.7804256e-07, 3.4303511e-03, 3.9840639e-02,\n",
              "        5.8312690e-01, 4.0135095e-03, 3.6957827e-01, 2.7460987e-06,\n",
              "        5.4976872e-06, 2.2559030e-07]], dtype=float32)"
            ]
          },
          "metadata": {},
          "execution_count": 71
        }
      ]
    },
    {
      "cell_type": "code",
      "source": [
        "y_classes = [np.argmax(element) for element in y_pred]\n",
        "y_classes[:5]"
      ],
      "metadata": {
        "colab": {
          "base_uri": "https://localhost:8080/"
        },
        "id": "w8NY4hR-S4ja",
        "outputId": "350b2930-843b-402d-ef42-36b4adca45e7"
      },
      "execution_count": null,
      "outputs": [
        {
          "output_type": "execute_result",
          "data": {
            "text/plain": [
              "[3, 8, 8, 0, 4]"
            ]
          },
          "metadata": {},
          "execution_count": 79
        }
      ]
    },
    {
      "cell_type": "code",
      "source": [
        "y_test[:5]"
      ],
      "metadata": {
        "colab": {
          "base_uri": "https://localhost:8080/"
        },
        "id": "OGwt0qL4TVVV",
        "outputId": "7a19c24e-5a51-4103-e474-4246d0c6bfa6"
      },
      "execution_count": null,
      "outputs": [
        {
          "output_type": "execute_result",
          "data": {
            "text/plain": [
              "array([3, 8, 8, 0, 6], dtype=uint8)"
            ]
          },
          "metadata": {},
          "execution_count": 73
        }
      ]
    },
    {
      "cell_type": "code",
      "source": [
        "plot_sample(X_test, y_test,1)"
      ],
      "metadata": {
        "colab": {
          "base_uri": "https://localhost:8080/",
          "height": 161
        },
        "id": "eElrazeWTza3",
        "outputId": "705f9b2f-fb43-49e6-ec79-d33b156e2890"
      },
      "execution_count": null,
      "outputs": [
        {
          "output_type": "display_data",
          "data": {
            "text/plain": [
              "<Figure size 1200x100 with 1 Axes>"
            ],
            "image/png": "[encoded data removed]"
          },
          "metadata": {}
        }
      ]
    },
    {
      "cell_type": "code",
      "source": [
        "classes[y_classes[3]]"
      ],
      "metadata": {
        "colab": {
          "base_uri": "https://localhost:8080/",
          "height": 35
        },
        "id": "5JUuMKqHUU-2",
        "outputId": "d65a4611-c057-4152-9de3-256e0dcefb29"
      },
      "execution_count": null,
      "outputs": [
        {
          "output_type": "execute_result",
          "data": {
            "text/plain": [
              "'airplane'"
            ],
            "application/vnd.google.colaboratory.intrinsic+json": {
              "type": "string"
            }
          },
          "metadata": {},
          "execution_count": 54
        }
      ]
    },
    {
      "cell_type": "code",
      "source": [
        "plot_sample(X_test, y_test,3)"
      ],
      "metadata": {
        "colab": {
          "base_uri": "https://localhost:8080/",
          "height": 161
        },
        "id": "9b0Ft-_JUZrs",
        "outputId": "f9bfc258-0942-4fed-ad1a-bc1db0975584"
      },
      "execution_count": null,
      "outputs": [
        {
          "output_type": "display_data",
          "data": {
            "text/plain": [
              "<Figure size 1200x100 with 1 Axes>"
            ],
            "image/png": "[encoded data removed]"
          },
          "metadata": {}
        }
      ]
    }
  ]
}